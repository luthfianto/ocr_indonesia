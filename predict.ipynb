{
 "cells": [
  {
   "cell_type": "code",
   "execution_count": 1,
   "metadata": {
    "ExecuteTime": {
     "end_time": "2020-10-12T07:41:37.346833Z",
     "start_time": "2020-10-12T07:41:35.892489Z"
    }
   },
   "outputs": [],
   "source": [
    "import json\n",
    "import os\n",
    "\n",
    "import cv2\n",
    "from modelOCR import numericalDetectron2, boundingBoxesDetectron2, alphabeticalDetectron2, easypredict\n",
    "from config import cfg\n"
   ]
  },
  {
   "cell_type": "code",
   "execution_count": 2,
   "metadata": {
    "ExecuteTime": {
     "end_time": "2020-10-12T07:42:04.591703Z",
     "start_time": "2020-10-12T07:41:37.360675Z"
    }
   },
   "outputs": [],
   "source": [
    "# load model_objects\n",
    "bBoxDet = boundingBoxesDetectron2(cfg['boundingBoxesDetectron2'])\n",
    "numDet = numericalDetectron2(cfg['numericalDetectron2'])\n",
    "alphaDet = alphabeticalDetectron2(cfg['alphabeticalDetectron2'])"
   ]
  },
  {
   "cell_type": "code",
   "execution_count": 3,
   "metadata": {
    "ExecuteTime": {
     "end_time": "2020-10-12T07:42:05.679557Z",
     "start_time": "2020-10-12T07:42:04.606030Z"
    }
   },
   "outputs": [
    {
     "data": {
      "text/plain": [
       "{'input_type': 'ktp', 'id': '3101021210920002', 'name': 'YAZIDUL FAHIMI'}"
      ]
     },
     "execution_count": 3,
     "metadata": {},
     "output_type": "execute_result"
    }
   ],
   "source": [
    "image = cv2.imread(\"assets/ktp_example.jpg\")\n",
    "easypredict(image, bBoxDet, numDet, alphaDet, input_type='ktp')"
   ]
  },
  {
   "cell_type": "code",
   "execution_count": 4,
   "metadata": {
    "ExecuteTime": {
     "end_time": "2020-10-12T07:42:06.155385Z",
     "start_time": "2020-10-12T07:42:05.695014Z"
    }
   },
   "outputs": [
    {
     "data": {
      "text/plain": [
       "{'input_type': 'sim',\n",
       " 'id': '780314521173',\n",
       " 'name': 'MIRSA VIRDIANI',\n",
       " 'expdate': '14-03-2016'}"
      ]
     },
     "execution_count": 4,
     "metadata": {},
     "output_type": "execute_result"
    }
   ],
   "source": [
    "image = cv2.imread(\"assets/sim_example.jpg\")\n",
    "easypredict(image, bBoxDet, numDet, alphaDet, input_type='sim')"
   ]
  }
 ],
 "metadata": {
  "kernelspec": {
   "display_name": "Python 3",
   "language": "python",
   "name": "python3"
  },
  "language_info": {
   "codemirror_mode": {
    "name": "ipython",
    "version": 3
   },
   "file_extension": ".py",
   "mimetype": "text/x-python",
   "name": "python",
   "nbconvert_exporter": "python",
   "pygments_lexer": "ipython3",
   "version": "3.7.4"
  },
  "varInspector": {
   "cols": {
    "lenName": 16,
    "lenType": 16,
    "lenVar": 40
   },
   "kernels_config": {
    "python": {
     "delete_cmd_postfix": "",
     "delete_cmd_prefix": "del ",
     "library": "var_list.py",
     "varRefreshCmd": "print(var_dic_list())"
    },
    "r": {
     "delete_cmd_postfix": ") ",
     "delete_cmd_prefix": "rm(",
     "library": "var_list.r",
     "varRefreshCmd": "cat(var_dic_list()) "
    }
   },
   "types_to_exclude": [
    "module",
    "function",
    "builtin_function_or_method",
    "instance",
    "_Feature"
   ],
   "window_display": false
  }
 },
 "nbformat": 4,
 "nbformat_minor": 4
}
